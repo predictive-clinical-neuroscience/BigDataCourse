{
 "cells": [
  {
   "cell_type": "markdown",
   "metadata": {
    "id": "aXvrQraBOZpl"
   },
   "source": [
    "## Open this document in colab (if it is not already done so)\n",
    "\n",
    "[![Open In Colab](https://colab.research.google.com/assets/colab-badge.svg)](https://colab.research.google.com/github/predictive-clinical-neuroscience/BigDataCourse/blob/main/practicals/Big_data_mouse_practical_2024.ipynb)"
   ]
  },
  {
   "cell_type": "markdown",
   "metadata": {},
   "source": [
    "## Answers\n",
    "The answers to this practical are here. We encourage you to try to come to the answers by yourself. \n",
    "[![Open In Colab](https://colab.research.google.com/assets/colab-badge.svg)](https://colab.research.google.com/github/predictive-clinical-neuroscience/BigDataCourse/blob/main/practicals/Big_data_mouse_practical_2024_answer.ipynb)\n",
    "\n",
    "https://github.com/predictive-clinical-neuroscience/BigDataCourse/blob/main/practicals/Big_data_mouse_practical_2024_answer.ipynb"
   ]
  },
  {
   "cell_type": "markdown",
   "metadata": {
    "id": "E82tdUEX7lU8"
   },
   "source": [
    "# Big data : Mouse\n",
    "\n",
    "The objectives of this exercise are to familiarize the students with python, especially the processing of large mouse database. Here, we will use a recently published dataset containing mouse brain volume data from ~ 2000 mice.\n",
    "<br>\n",
    "Learning goals: \n",
    "- The student learns to use python through google collab / jupyter notebook\n",
    "- The student learns to use pandas to process large datasets\n",
    "- The student learns to use matplotlib to visualize data\n",
    "- The student is familar with large mouse datasets\n",
    "<br>\n",
    "**References:** \n",
    "1. Ellegood, J., Anagnostou, E., Babineau, B. et al. Clustering autism: using neuroanatomical differences in 26 mouse models to gain insight into the heterogeneity. Mol Psychiatry 20, 118–125 (2015). https://doi.org/10.1038/mp.2014.98\n",
    "2. Rivera-Olvera, A., Houwing, D.J., Ellegood, J. et al. The universe is asymmetric, the mouse brain too. Mol Psychiatry (2024). https://doi.org/10.1038/s41380-024-02687-2\n",
    "3. Original dataset available at: https://portal.conp.ca/dataset?id=projects/braincode_Mouse_Image\n"
   ]
  },
  {
   "cell_type": "markdown",
   "metadata": {
    "id": "pkUlCjXcM-tS"
   },
   "source": [
    "## Foreword and environment\n",
    "This is a Jupyter notebook. This document combines both text (e.g. *this*), and executable code. These are organized into cells. This is a **text** cell. "
   ]
  },
  {
   "cell_type": "code",
   "execution_count": 1,
   "metadata": {
    "id": "alNQlF0qNis1"
   },
   "outputs": [
    {
     "name": "stdout",
     "output_type": "stream",
     "text": [
      "This is a code cell\n"
     ]
    }
   ],
   "source": [
    "print('This is a code cell')\n",
    "# This is a comment. The line above will be executed when you click on the 'play' icon on the left. The comment will not be executed. "
   ]
  },
  {
   "cell_type": "markdown",
   "metadata": {
    "id": "lKkEa-yuOABV"
   },
   "source": [
    "## Environment basics\n",
    "The default environment is Python3. You can check the version by running the \n",
    "code in the following cell. "
   ]
  },
  {
   "cell_type": "code",
   "execution_count": 2,
   "metadata": {
    "id": "YLJUiPefOHss"
   },
   "outputs": [
    {
     "name": "stdout",
     "output_type": "stream",
     "text": [
      "3.12.7\n"
     ]
    }
   ],
   "source": [
    "import platform  #the import function loads packages (a collection of functions) that isn't available within the default python environment. \n",
    "\n",
    "print(platform.python_version()) #the print function *prints* on screen the content therein. In this particular instance, it *prints* the content from the function `platform.python_version()`"
   ]
  },
  {
   "cell_type": "markdown",
   "metadata": {
    "id": "dwr-VUN_Pzz2"
   },
   "source": [
    "## Editing cells. \n",
    "You can *Double-click* to edit the content of a cell. \n",
    "<br>\n",
    "## Adding new cells.\n",
    "By hovering your mouse above or below a cell, you can add either a *code* cell or a *text* cell\n",
    "<br>\n",
    "## Formating text.\n",
    "You can add emphasis to your text using either the icons on top of the cell while editing, or using [Markdown](https://www.markdownguide.org/cheat-sheet/), a simple text-formating language. \n",
    "<br><br>\n",
    "##### 100% optional (but so good!!)\n",
    "While in Google Colab: Tools -> Settings -> Miscellaneous -> Corgi mode [x]\n"
   ]
  },
  {
   "cell_type": "markdown",
   "metadata": {
    "id": "NHK8v4nuY8vy"
   },
   "source": [
    "### Question 1\n",
    "**Create a code cell, and have it print your name**"
   ]
  },
  {
   "cell_type": "markdown",
   "metadata": {},
   "source": [
    "## Environment: packages \n",
    "By default, Python comes only with minimal functions.  \n",
    "Google colab comes with pip pre-installed as well as most packages that you would need for most data analysis tasks. These are:\n",
    "- pandas for data manipulation\n",
    "- numpy for numerical operations\n",
    "- matplotlib for plotting\n",
    "- seaborn for (better) plotting\n",
    "- scipy for statistics\n",
    "\n",
    "each needs to be loaded using the `import` command in python.\n",
    "each package has a manual online with a description of the functions. You can use this as the reference for the functions you will use. \n",
    "\n",
    "in case you need to install a package, you can use the `!pip install THENAMEOFYOURPACKAGE` command. "
   ]
  },
  {
   "cell_type": "markdown",
   "metadata": {},
   "source": [
    "## Note on AI use for coding\n",
    "Google colab comes with AI assited code completion. This can be very useful to find the right function. You can also use chatGPT to help you with the code. **Mind you**, these are not always correct. Using 'old fashioned' methods to find the right function (e.g. google,  stackoverflow, reading the package manual) is often more reliable.\n",
    "\n",
    "We cannot stop you from using AI (nor should we). However, we do encourage you to try to solve the problems yourself, especially as a beginner, so as to learn the basics."
   ]
  },
  {
   "cell_type": "markdown",
   "metadata": {},
   "source": [
    "# Part 1: Data loading and exploration\n",
    "The first step in any data analysis is to load the data and explore it. As mentioned earlier, this dataset consists of brain volume data from ~2000 mice. The data is stored in a csv file which we import using the read_csv function from the pandas package."
   ]
  },
  {
   "cell_type": "code",
   "execution_count": 1,
   "metadata": {},
   "outputs": [
    {
     "name": "stderr",
     "output_type": "stream",
     "text": [
      "/tmp/nix-shell-1397668-0/ipykernel_1403204/746348814.py:2: DtypeWarning: Columns (4) have mixed types. Specify dtype option on import or set low_memory=False.\n",
      "  df = pd.read_csv('https://raw.githubusercontent.com/predictive-clinical-neuroscience/BigDataCourse/main/data/mouse_autism.csv') #from pandas (pd), we use the read_csv function to read the csv file. We store the data in a variable called df, short for data frame.\n"
     ]
    },
    {
     "data": {
      "text/html": [
       "<div>\n",
       "<style scoped>\n",
       "    .dataframe tbody tr th:only-of-type {\n",
       "        vertical-align: middle;\n",
       "    }\n",
       "\n",
       "    .dataframe tbody tr th {\n",
       "        vertical-align: top;\n",
       "    }\n",
       "\n",
       "    .dataframe thead th {\n",
       "        text-align: right;\n",
       "    }\n",
       "</style>\n",
       "<table border=\"1\" class=\"dataframe\">\n",
       "  <thead>\n",
       "    <tr style=\"text-align: right;\">\n",
       "      <th></th>\n",
       "      <th>Mouse_ID</th>\n",
       "      <th>Study_Name</th>\n",
       "      <th>Is_Wildtype</th>\n",
       "      <th>Mouse_Sex</th>\n",
       "      <th>Mouse_Age</th>\n",
       "      <th>Mouse_Weight</th>\n",
       "      <th>Genotype_Code</th>\n",
       "      <th>dentate_nucleus_right</th>\n",
       "      <th>nucleus_interpositus_left</th>\n",
       "      <th>thalamus_left</th>\n",
       "      <th>...</th>\n",
       "      <th>Olfactory_bulb:_mitral_cell_layer_left</th>\n",
       "      <th>Olfactory_bulb:_internal_plexiform_layer_left</th>\n",
       "      <th>Olfactory_bulb:_granule_cell_layer_left</th>\n",
       "      <th>Accessory_olfactory_bulb:_glomerular,_external_plexiform_and_mitral_cell_layer_left</th>\n",
       "      <th>Accessory_olfactory_bulb:_granule_cell_layer_left</th>\n",
       "      <th>Anterior_olfactory_nucleus_left</th>\n",
       "      <th>Medial_amygdala_right</th>\n",
       "      <th>Medial_preoptic_nucleus_right</th>\n",
       "      <th>Medial_amygdala_left</th>\n",
       "      <th>Medial_preoptic_nucleus_left</th>\n",
       "    </tr>\n",
       "  </thead>\n",
       "  <tbody>\n",
       "    <tr>\n",
       "      <th>0</th>\n",
       "      <td>TT_15q_717</td>\n",
       "      <td>15q</td>\n",
       "      <td>WT</td>\n",
       "      <td>M</td>\n",
       "      <td>P70-77</td>\n",
       "      <td>NaN</td>\n",
       "      <td>WT</td>\n",
       "      <td>0.177992</td>\n",
       "      <td>0.226057</td>\n",
       "      <td>9.759248</td>\n",
       "      <td>...</td>\n",
       "      <td>0.648162</td>\n",
       "      <td>0.530152</td>\n",
       "      <td>2.149071</td>\n",
       "      <td>0.276940</td>\n",
       "      <td>0.130818</td>\n",
       "      <td>1.019970</td>\n",
       "      <td>0.684956</td>\n",
       "      <td>0.092927</td>\n",
       "      <td>0.576986</td>\n",
       "      <td>0.103273</td>\n",
       "    </tr>\n",
       "    <tr>\n",
       "      <th>1</th>\n",
       "      <td>TT_15q_718</td>\n",
       "      <td>15q</td>\n",
       "      <td>MUT</td>\n",
       "      <td>M</td>\n",
       "      <td>P70-77</td>\n",
       "      <td>NaN</td>\n",
       "      <td>pDp</td>\n",
       "      <td>0.182018</td>\n",
       "      <td>0.223815</td>\n",
       "      <td>9.519517</td>\n",
       "      <td>...</td>\n",
       "      <td>0.710666</td>\n",
       "      <td>0.583262</td>\n",
       "      <td>2.422023</td>\n",
       "      <td>0.311462</td>\n",
       "      <td>0.145130</td>\n",
       "      <td>1.127081</td>\n",
       "      <td>0.616302</td>\n",
       "      <td>0.085706</td>\n",
       "      <td>0.607978</td>\n",
       "      <td>0.099528</td>\n",
       "    </tr>\n",
       "    <tr>\n",
       "      <th>2</th>\n",
       "      <td>TT_15q_719</td>\n",
       "      <td>15q</td>\n",
       "      <td>WT</td>\n",
       "      <td>M</td>\n",
       "      <td>P70-77</td>\n",
       "      <td>NaN</td>\n",
       "      <td>WT</td>\n",
       "      <td>0.185226</td>\n",
       "      <td>0.243459</td>\n",
       "      <td>10.351511</td>\n",
       "      <td>...</td>\n",
       "      <td>0.760831</td>\n",
       "      <td>0.622254</td>\n",
       "      <td>2.566074</td>\n",
       "      <td>0.293608</td>\n",
       "      <td>0.141564</td>\n",
       "      <td>1.113112</td>\n",
       "      <td>0.611263</td>\n",
       "      <td>0.094016</td>\n",
       "      <td>0.564259</td>\n",
       "      <td>0.104263</td>\n",
       "    </tr>\n",
       "    <tr>\n",
       "      <th>3</th>\n",
       "      <td>TT_15q_720</td>\n",
       "      <td>15q</td>\n",
       "      <td>MUT</td>\n",
       "      <td>M</td>\n",
       "      <td>P70-77</td>\n",
       "      <td>NaN</td>\n",
       "      <td>pDp</td>\n",
       "      <td>0.193267</td>\n",
       "      <td>0.243405</td>\n",
       "      <td>9.960148</td>\n",
       "      <td>...</td>\n",
       "      <td>0.728169</td>\n",
       "      <td>0.595189</td>\n",
       "      <td>2.406004</td>\n",
       "      <td>0.275194</td>\n",
       "      <td>0.142664</td>\n",
       "      <td>1.029186</td>\n",
       "      <td>0.657170</td>\n",
       "      <td>0.098554</td>\n",
       "      <td>0.538996</td>\n",
       "      <td>0.098580</td>\n",
       "    </tr>\n",
       "    <tr>\n",
       "      <th>4</th>\n",
       "      <td>TT_15q_722</td>\n",
       "      <td>15q</td>\n",
       "      <td>WT</td>\n",
       "      <td>M</td>\n",
       "      <td>P70-77</td>\n",
       "      <td>NaN</td>\n",
       "      <td>WT</td>\n",
       "      <td>0.179960</td>\n",
       "      <td>0.249123</td>\n",
       "      <td>10.408760</td>\n",
       "      <td>...</td>\n",
       "      <td>0.702497</td>\n",
       "      <td>0.574957</td>\n",
       "      <td>2.429699</td>\n",
       "      <td>0.284369</td>\n",
       "      <td>0.140794</td>\n",
       "      <td>1.095187</td>\n",
       "      <td>0.661461</td>\n",
       "      <td>0.097791</td>\n",
       "      <td>0.574480</td>\n",
       "      <td>0.098246</td>\n",
       "    </tr>\n",
       "  </tbody>\n",
       "</table>\n",
       "<p>5 rows × 343 columns</p>\n",
       "</div>"
      ],
      "text/plain": [
       "     Mouse_ID Study_Name Is_Wildtype Mouse_Sex Mouse_Age  Mouse_Weight  \\\n",
       "0  TT_15q_717        15q          WT         M    P70-77           NaN   \n",
       "1  TT_15q_718        15q         MUT         M    P70-77           NaN   \n",
       "2  TT_15q_719        15q          WT         M    P70-77           NaN   \n",
       "3  TT_15q_720        15q         MUT         M    P70-77           NaN   \n",
       "4  TT_15q_722        15q          WT         M    P70-77           NaN   \n",
       "\n",
       "  Genotype_Code  dentate_nucleus_right  nucleus_interpositus_left  \\\n",
       "0            WT               0.177992                   0.226057   \n",
       "1           pDp               0.182018                   0.223815   \n",
       "2            WT               0.185226                   0.243459   \n",
       "3           pDp               0.193267                   0.243405   \n",
       "4            WT               0.179960                   0.249123   \n",
       "\n",
       "   thalamus_left  ...  Olfactory_bulb:_mitral_cell_layer_left  \\\n",
       "0       9.759248  ...                                0.648162   \n",
       "1       9.519517  ...                                0.710666   \n",
       "2      10.351511  ...                                0.760831   \n",
       "3       9.960148  ...                                0.728169   \n",
       "4      10.408760  ...                                0.702497   \n",
       "\n",
       "   Olfactory_bulb:_internal_plexiform_layer_left  \\\n",
       "0                                       0.530152   \n",
       "1                                       0.583262   \n",
       "2                                       0.622254   \n",
       "3                                       0.595189   \n",
       "4                                       0.574957   \n",
       "\n",
       "   Olfactory_bulb:_granule_cell_layer_left  \\\n",
       "0                                 2.149071   \n",
       "1                                 2.422023   \n",
       "2                                 2.566074   \n",
       "3                                 2.406004   \n",
       "4                                 2.429699   \n",
       "\n",
       "   Accessory_olfactory_bulb:_glomerular,_external_plexiform_and_mitral_cell_layer_left  \\\n",
       "0                                           0.276940                                     \n",
       "1                                           0.311462                                     \n",
       "2                                           0.293608                                     \n",
       "3                                           0.275194                                     \n",
       "4                                           0.284369                                     \n",
       "\n",
       "   Accessory_olfactory_bulb:_granule_cell_layer_left  \\\n",
       "0                                           0.130818   \n",
       "1                                           0.145130   \n",
       "2                                           0.141564   \n",
       "3                                           0.142664   \n",
       "4                                           0.140794   \n",
       "\n",
       "   Anterior_olfactory_nucleus_left  Medial_amygdala_right  \\\n",
       "0                         1.019970               0.684956   \n",
       "1                         1.127081               0.616302   \n",
       "2                         1.113112               0.611263   \n",
       "3                         1.029186               0.657170   \n",
       "4                         1.095187               0.661461   \n",
       "\n",
       "   Medial_preoptic_nucleus_right  Medial_amygdala_left  \\\n",
       "0                       0.092927              0.576986   \n",
       "1                       0.085706              0.607978   \n",
       "2                       0.094016              0.564259   \n",
       "3                       0.098554              0.538996   \n",
       "4                       0.097791              0.574480   \n",
       "\n",
       "   Medial_preoptic_nucleus_left  \n",
       "0                      0.103273  \n",
       "1                      0.099528  \n",
       "2                      0.104263  \n",
       "3                      0.098580  \n",
       "4                      0.098246  \n",
       "\n",
       "[5 rows x 343 columns]"
      ]
     },
     "execution_count": 1,
     "metadata": {},
     "output_type": "execute_result"
    }
   ],
   "source": [
    "import pandas as pd #importing the pandas package and renaming it as pd. This is a common practice in python programming.\n",
    "df = pd.read_csv('https://raw.githubusercontent.com/predictive-clinical-neuroscience/BigDataCourse/main/data/mouse_autism.csv') #from pandas (pd), we use the read_csv function to read the csv file. We store the data in a variable called df, short for data frame. \n",
    "df.head() #the head function displays the first 5 rows of"
   ]
  },
  {
   "cell_type": "markdown",
   "metadata": {},
   "source": [
    "We find that the data consists of many columns, the first 7 are detailing the sample, the remaining columns are the brain volumes for different regions of the brain (e.g. dentate_nucleus_right), expressed in mm^3.\n",
    "Mouse_ID is the unique identifier for each mouse.\n",
    "Study_Name is the name of the study the mouse was part of. Usually, this refers to a gene or genetic manipulation to reproduce one aspect of autism spectrum disorder in transgenic mice.\n",
    "Is_Wildtype indicates if the mouse is a wildtype (WT) mouse or a transgenic (MUT)\n",
    "Mouse_Sex is the mouse sex\n",
    "Mouse_Age is the mouse age in days or day range\n",
    "Mouse_Weight is the mouse weight in grams\n",
    "Genotype_Code is the genotype code for the mouse (e.g. WT, KO, HET, ...). "
   ]
  },
  {
   "cell_type": "markdown",
   "metadata": {},
   "source": [
    "## Question 1: data exploration\n",
    "We want to get some basic information about the dataset. Want to get the following information:\n",
    "- The total number of rows and colums (hint: use the shape attribute of your dataframe)\n",
    "- The Mouse_ID at the 15th row of the dataset (hint: use the iloc function, remember that python starts counting at 0)\n",
    "- The total number of unique studies (hint: use the nunique function, and select the Study_Name column)\n",
    "- Count how many male and female mice are in the dataset (hint: use the value_counts function and the [] operator to select the colmun you want to count)\n",
    "\n",
    "Links to hints:\n",
    "- [shape](https://pandas.pydata.org/pandas-docs/stable/reference/api/pandas.DataFrame.shape.html)\n",
    "- [iloc](https://pandas.pydata.org/pandas-docs/stable/reference/api/pandas.DataFrame.iloc.html)\n",
    "- [nunique](https://pandas.pydata.org/pandas-docs/stable/reference/api/pandas.Series.nunique.html)\n",
    "- [value_counts](https://pandas.pydata.org/pandas-docs/stable/reference/api/pandas.Series.value_counts.html)"
   ]
  },
  {
   "cell_type": "code",
   "execution_count": 2,
   "metadata": {},
   "outputs": [
    {
     "name": "stdout",
     "output_type": "stream",
     "text": [
      "the dataframe has 2298 rows and 343 columns\n"
     ]
    }
   ],
   "source": [
    "print('the dataframe has '+ str(df.shape[0])+' rows and '+str(df.shape[1])+' columns') #this line of code prints the number of rows and columns in the dataframe. The str() function converts the number to a string so that it can be concatenated with other strings."
   ]
  },
  {
   "cell_type": "code",
   "execution_count": 3,
   "metadata": {},
   "outputs": [
    {
     "name": "stdout",
     "output_type": "stream",
     "text": [
      "The Mouse_ID at row 15 is TT_15q_748\n"
     ]
    }
   ],
   "source": [
    "print('The Mouse_ID at row 15 is ' + df['Mouse_ID'][14]) #this line of code prints the Mouse_ID at row 15. The Mouse_ID is a column in the dataframe. The index in python starts at 0, so the 15th row is at index 14. Confusing, I know."
   ]
  },
  {
   "cell_type": "code",
   "execution_count": 4,
   "metadata": {},
   "outputs": [
    {
     "name": "stdout",
     "output_type": "stream",
     "text": [
      "There are 63 unique studies in this dataset\n"
     ]
    }
   ],
   "source": [
    "print('There are ' + str(df['Study_Name'].nunique()) + ' unique studies in this dataset') #this line of code prints the number of unique study names in the dataframe. The nunique() function returns the number of unique values in a column."
   ]
  },
  {
   "cell_type": "code",
   "execution_count": 5,
   "metadata": {},
   "outputs": [
    {
     "name": "stdout",
     "output_type": "stream",
     "text": [
      "The sex distribution is :\n",
      "Mouse_Sex\n",
      "M    1369\n",
      "F     815\n",
      "Name: count, dtype: int64\n"
     ]
    }
   ],
   "source": [
    "print('The sex distribution is :') \n",
    "print(df['Mouse_Sex'].value_counts())"
   ]
  },
  {
   "cell_type": "markdown",
   "metadata": {},
   "source": [
    "## Question 2: data manipulation\n",
    "Here we want to learn to manipulate the data for our purposes.\n",
    "- Create a subset of df that only contains the columns from the 8th to the last column (hint: use the iloc function with the : operator)\n",
    "- Create a new column in df that contains the total brain volume for each mouse. This is the sum of all the columns from your previously subsetted dataframe (hint: use the sum function with the axis=1 argument, the total brain volume should be in the 500 mm^3 range)\n",
    "- Create a subset of df that only contains the data for the 'Chd8_Basson' study. Chd8 is a gene that is associated with an enlarged brain in autism. **You should have 24 rows left!** (hint: use the [] operator with a condition inside to select only the rows that match, e.g. df[df['YOURCOLUMN']=='YOURVALUE'])\n",
    "\n",
    "Links to hints:\n",
    "- [using operators in pandas](https://pandas.pydata.org/pandas-docs/stable/user_guide/indexing.html)\n",
    "- [iloc](https://pandas.pydata.org/pandas-docs/stable/reference/api/pandas.DataFrame.iloc.html)\n",
    "- [sum](https://pandas.pydata.org/pandas-docs/stable/reference/api/pandas.DataFrame.sum.html)"
   ]
  },
  {
   "cell_type": "code",
   "execution_count": 6,
   "metadata": {},
   "outputs": [
    {
     "data": {
      "text/html": [
       "<div>\n",
       "<style scoped>\n",
       "    .dataframe tbody tr th:only-of-type {\n",
       "        vertical-align: middle;\n",
       "    }\n",
       "\n",
       "    .dataframe tbody tr th {\n",
       "        vertical-align: top;\n",
       "    }\n",
       "\n",
       "    .dataframe thead th {\n",
       "        text-align: right;\n",
       "    }\n",
       "</style>\n",
       "<table border=\"1\" class=\"dataframe\">\n",
       "  <thead>\n",
       "    <tr style=\"text-align: right;\">\n",
       "      <th></th>\n",
       "      <th>Mouse_ID</th>\n",
       "      <th>Study_Name</th>\n",
       "      <th>Is_Wildtype</th>\n",
       "      <th>Mouse_Sex</th>\n",
       "      <th>Mouse_Age</th>\n",
       "      <th>Mouse_Weight</th>\n",
       "      <th>Genotype_Code</th>\n",
       "      <th>dentate_nucleus_right</th>\n",
       "      <th>nucleus_interpositus_left</th>\n",
       "      <th>thalamus_left</th>\n",
       "      <th>...</th>\n",
       "      <th>Olfactory_bulb:_internal_plexiform_layer_left</th>\n",
       "      <th>Olfactory_bulb:_granule_cell_layer_left</th>\n",
       "      <th>Accessory_olfactory_bulb:_glomerular,_external_plexiform_and_mitral_cell_layer_left</th>\n",
       "      <th>Accessory_olfactory_bulb:_granule_cell_layer_left</th>\n",
       "      <th>Anterior_olfactory_nucleus_left</th>\n",
       "      <th>Medial_amygdala_right</th>\n",
       "      <th>Medial_preoptic_nucleus_right</th>\n",
       "      <th>Medial_amygdala_left</th>\n",
       "      <th>Medial_preoptic_nucleus_left</th>\n",
       "      <th>total_volume</th>\n",
       "    </tr>\n",
       "  </thead>\n",
       "  <tbody>\n",
       "    <tr>\n",
       "      <th>301</th>\n",
       "      <td>Basson_2.1</td>\n",
       "      <td>Chd8_Basson</td>\n",
       "      <td>WT</td>\n",
       "      <td>M</td>\n",
       "      <td>P56</td>\n",
       "      <td>NaN</td>\n",
       "      <td>WT</td>\n",
       "      <td>0.168663</td>\n",
       "      <td>0.219469</td>\n",
       "      <td>9.293767</td>\n",
       "      <td>...</td>\n",
       "      <td>0.562151</td>\n",
       "      <td>2.313609</td>\n",
       "      <td>0.258967</td>\n",
       "      <td>0.118458</td>\n",
       "      <td>1.037648</td>\n",
       "      <td>0.595330</td>\n",
       "      <td>0.089586</td>\n",
       "      <td>0.575687</td>\n",
       "      <td>0.103963</td>\n",
       "      <td>470.179579</td>\n",
       "    </tr>\n",
       "    <tr>\n",
       "      <th>302</th>\n",
       "      <td>Basson_2.2</td>\n",
       "      <td>Chd8_Basson</td>\n",
       "      <td>MUT</td>\n",
       "      <td>M</td>\n",
       "      <td>P56</td>\n",
       "      <td>NaN</td>\n",
       "      <td>Chd8</td>\n",
       "      <td>0.189517</td>\n",
       "      <td>0.235355</td>\n",
       "      <td>9.998379</td>\n",
       "      <td>...</td>\n",
       "      <td>0.633768</td>\n",
       "      <td>2.566951</td>\n",
       "      <td>0.302260</td>\n",
       "      <td>0.140119</td>\n",
       "      <td>1.161313</td>\n",
       "      <td>0.597749</td>\n",
       "      <td>0.094452</td>\n",
       "      <td>0.659008</td>\n",
       "      <td>0.110084</td>\n",
       "      <td>501.208088</td>\n",
       "    </tr>\n",
       "    <tr>\n",
       "      <th>303</th>\n",
       "      <td>Basson_2.3</td>\n",
       "      <td>Chd8_Basson</td>\n",
       "      <td>MUT</td>\n",
       "      <td>M</td>\n",
       "      <td>P56</td>\n",
       "      <td>NaN</td>\n",
       "      <td>Chd8</td>\n",
       "      <td>0.165702</td>\n",
       "      <td>0.231809</td>\n",
       "      <td>9.977035</td>\n",
       "      <td>...</td>\n",
       "      <td>0.604135</td>\n",
       "      <td>2.492282</td>\n",
       "      <td>0.289693</td>\n",
       "      <td>0.137245</td>\n",
       "      <td>1.193429</td>\n",
       "      <td>0.703657</td>\n",
       "      <td>0.100247</td>\n",
       "      <td>0.667773</td>\n",
       "      <td>0.115934</td>\n",
       "      <td>510.852284</td>\n",
       "    </tr>\n",
       "    <tr>\n",
       "      <th>304</th>\n",
       "      <td>Basson_2.5</td>\n",
       "      <td>Chd8_Basson</td>\n",
       "      <td>MUT</td>\n",
       "      <td>M</td>\n",
       "      <td>P56</td>\n",
       "      <td>NaN</td>\n",
       "      <td>Chd8</td>\n",
       "      <td>0.181568</td>\n",
       "      <td>0.233875</td>\n",
       "      <td>9.729564</td>\n",
       "      <td>...</td>\n",
       "      <td>0.587037</td>\n",
       "      <td>2.410584</td>\n",
       "      <td>0.282036</td>\n",
       "      <td>0.135637</td>\n",
       "      <td>1.081023</td>\n",
       "      <td>0.611764</td>\n",
       "      <td>0.094982</td>\n",
       "      <td>0.610580</td>\n",
       "      <td>0.107846</td>\n",
       "      <td>494.799454</td>\n",
       "    </tr>\n",
       "    <tr>\n",
       "      <th>305</th>\n",
       "      <td>Basson_2.6</td>\n",
       "      <td>Chd8_Basson</td>\n",
       "      <td>WT</td>\n",
       "      <td>M</td>\n",
       "      <td>P56</td>\n",
       "      <td>NaN</td>\n",
       "      <td>WT</td>\n",
       "      <td>0.190974</td>\n",
       "      <td>0.237506</td>\n",
       "      <td>9.429807</td>\n",
       "      <td>...</td>\n",
       "      <td>0.561839</td>\n",
       "      <td>2.397154</td>\n",
       "      <td>0.282175</td>\n",
       "      <td>0.147073</td>\n",
       "      <td>1.149243</td>\n",
       "      <td>0.624995</td>\n",
       "      <td>0.096791</td>\n",
       "      <td>0.583909</td>\n",
       "      <td>0.111145</td>\n",
       "      <td>476.579952</td>\n",
       "    </tr>\n",
       "  </tbody>\n",
       "</table>\n",
       "<p>5 rows × 344 columns</p>\n",
       "</div>"
      ],
      "text/plain": [
       "       Mouse_ID   Study_Name Is_Wildtype Mouse_Sex Mouse_Age  Mouse_Weight  \\\n",
       "301  Basson_2.1  Chd8_Basson          WT         M       P56           NaN   \n",
       "302  Basson_2.2  Chd8_Basson         MUT         M       P56           NaN   \n",
       "303  Basson_2.3  Chd8_Basson         MUT         M       P56           NaN   \n",
       "304  Basson_2.5  Chd8_Basson         MUT         M       P56           NaN   \n",
       "305  Basson_2.6  Chd8_Basson          WT         M       P56           NaN   \n",
       "\n",
       "    Genotype_Code  dentate_nucleus_right  nucleus_interpositus_left  \\\n",
       "301            WT               0.168663                   0.219469   \n",
       "302          Chd8               0.189517                   0.235355   \n",
       "303          Chd8               0.165702                   0.231809   \n",
       "304          Chd8               0.181568                   0.233875   \n",
       "305            WT               0.190974                   0.237506   \n",
       "\n",
       "     thalamus_left  ...  Olfactory_bulb:_internal_plexiform_layer_left  \\\n",
       "301       9.293767  ...                                       0.562151   \n",
       "302       9.998379  ...                                       0.633768   \n",
       "303       9.977035  ...                                       0.604135   \n",
       "304       9.729564  ...                                       0.587037   \n",
       "305       9.429807  ...                                       0.561839   \n",
       "\n",
       "     Olfactory_bulb:_granule_cell_layer_left  \\\n",
       "301                                 2.313609   \n",
       "302                                 2.566951   \n",
       "303                                 2.492282   \n",
       "304                                 2.410584   \n",
       "305                                 2.397154   \n",
       "\n",
       "     Accessory_olfactory_bulb:_glomerular,_external_plexiform_and_mitral_cell_layer_left  \\\n",
       "301                                           0.258967                                     \n",
       "302                                           0.302260                                     \n",
       "303                                           0.289693                                     \n",
       "304                                           0.282036                                     \n",
       "305                                           0.282175                                     \n",
       "\n",
       "     Accessory_olfactory_bulb:_granule_cell_layer_left  \\\n",
       "301                                           0.118458   \n",
       "302                                           0.140119   \n",
       "303                                           0.137245   \n",
       "304                                           0.135637   \n",
       "305                                           0.147073   \n",
       "\n",
       "     Anterior_olfactory_nucleus_left  Medial_amygdala_right  \\\n",
       "301                         1.037648               0.595330   \n",
       "302                         1.161313               0.597749   \n",
       "303                         1.193429               0.703657   \n",
       "304                         1.081023               0.611764   \n",
       "305                         1.149243               0.624995   \n",
       "\n",
       "     Medial_preoptic_nucleus_right  Medial_amygdala_left  \\\n",
       "301                       0.089586              0.575687   \n",
       "302                       0.094452              0.659008   \n",
       "303                       0.100247              0.667773   \n",
       "304                       0.094982              0.610580   \n",
       "305                       0.096791              0.583909   \n",
       "\n",
       "     Medial_preoptic_nucleus_left  total_volume  \n",
       "301                      0.103963    470.179579  \n",
       "302                      0.110084    501.208088  \n",
       "303                      0.115934    510.852284  \n",
       "304                      0.107846    494.799454  \n",
       "305                      0.111145    476.579952  \n",
       "\n",
       "[5 rows x 344 columns]"
      ]
     },
     "execution_count": 6,
     "metadata": {},
     "output_type": "execute_result"
    }
   ],
   "source": [
    "#ceate a subset of the dataframe with the 8th and onwards columns that contain the brain region data\n",
    "df_volume = df.iloc[:,7:] #iloc is a function that selects rows and columns by index. The colon selects all rows. The 7: selects columns from the 8th column onwards.\n",
    "df['total_volume']=df_volume.sum(axis=1)\n",
    "df['total_volume'].head() #the head function displays the first 5 rows of the total_volume column\n",
    "\n",
    "#select the rows in df where Study_Name is 'Chd8_Basson'\n",
    "df_chd8 = df[df['Study_Name']=='Chd8_Basson']\n",
    "df_chd8.head() #the head function displays the first 5 rows of the dataframe"
   ]
  },
  {
   "cell_type": "markdown",
   "metadata": {},
   "source": [
    "## Question 3: data visualization and statistics\n",
    "Here we want to visualize the data and perform some basic statistics.\n",
    "- Make a boxplot of the total brain volume on the y-axis and Genotype_Code on the x-axis. (hint: you can use the the boxplot function from pandas (easy), matplotlib (nice) or seaborn (nicer), don't forget to import matplotlib or seaborn, dont forget to add axis labes!)\n",
    "- Make a t-test to compare the total brain volume between WT and KO mice in the Chd8_Basson study. (hint: use the ttest_ind function from the scipy package, don't forget to import scipy !)\n",
    "\n",
    "Links to hints:\n",
    "- [boxplot using matplotlib](https://matplotlib.org/stable/gallery/statistics/boxplot_color.html)\n",
    "- [boxplot using seaborn](https://seaborn.pydata.org/generated/seaborn.boxplot.html)\n",
    "- [ttest_ind](https://docs.scipy.org/doc/scipy/reference/generated/scipy.stats.ttest_ind.html)"
   ]
  },
  {
   "cell_type": "code",
   "execution_count": 9,
   "metadata": {},
   "outputs": [
    {
     "name": "stderr",
     "output_type": "stream",
     "text": [
      "/tmp/nix-shell-1397668-0/ipykernel_1403204/665394768.py:4: MatplotlibDeprecationWarning: The 'labels' parameter of boxplot() has been renamed 'tick_labels' since Matplotlib 3.9; support for the old name will be dropped in 3.11.\n",
      "  plt.boxplot([df_chd8[df_chd8['Genotype_Code']=='Chd8']['total_volume'],df_chd8[df_chd8['Genotype_Code']=='WT']['total_volume']],labels=['MUT','WT'])\n"
     ]
    },
    {
     "data": {
      "image/png": "[encoded data removed]",
      "text/plain": [
       "<Figure size 1000x600 with 1 Axes>"
      ]
     },
     "metadata": {},
     "output_type": "display_data"
    }
   ],
   "source": [
    "import matplotlib.pyplot as plt\n",
    "#plot boxplot the total volume of brain regions as a function of Genotype_Code in df_chd8  using matplotlib\n",
    "plt.figure(figsize=(10,6))\n",
    "plt.boxplot([df_chd8[df_chd8['Genotype_Code']=='Chd8']['total_volume'],df_chd8[df_chd8['Genotype_Code']=='WT']['total_volume']],labels=['MUT','WT'])\n",
    "plt.ylabel('Total Volume')\n",
    "plt.xlabel('Genotype')\n",
    "plt.title('Total Volume of Brain Regions in Chd8_Basson Study')\n",
    "plt.show()\n"
   ]
  },
  {
   "cell_type": "code",
   "execution_count": null,
   "metadata": {},
   "outputs": [],
   "source": [
    "import seaborn as sns\n",
    "#plot boxplot the total volume of brain regions as a function of Genotype_Code in df_chd8  using seaborn\n",
    "plt.figure(figsize=(10,6))\n",
    "sns.boxplot(x='Genotype_Code',y='total_volume',data=df_chd8)\n",
    "plt.ylabel('Total Volume')\n",
    "plt.xlabel('Genotype')\n",
    "plt.title('Total Volume of Brain Regions in Chd8_Basson Study')\n",
    "plt.show()"
   ]
  },
  {
   "cell_type": "code",
   "execution_count": 12,
   "metadata": {},
   "outputs": [
    {
     "name": "stdout",
     "output_type": "stream",
     "text": [
      "The t-statistic is 1.593 and the p-value is 0.126\n"
     ]
    }
   ],
   "source": [
    "import scipy.stats as stats\n",
    "#perform a t-test to compare the total volume of brain regions between the two genotypes in the Chd8_Basson study\n",
    "t_stat,p_val = stats.ttest_ind(df_chd8[df_chd8['Genotype_Code']=='Chd8']['total_volume'],df_chd8[df_chd8['Genotype_Code']=='WT']['total_volume'])\n",
    "print('The t-statistic is '+str(round(t_stat,3))+' and the p-value is '+str(round(p_val,3)))"
   ]
  }
 ],
 "metadata": {
  "colab": {
   "collapsed_sections": [],
   "name": "Big_data_mouse_practical_2020.ipynb",
   "provenance": [
    {
     "file_id": "1aomciLThQotSzWfMjLBS5PyGwAoRZVwM",
     "timestamp": 1606770180804
    }
   ],
   "toc_visible": true
  },
  "kernelspec": {
   "display_name": "Python 3",
   "language": "python",
   "name": "python3"
  },
  "language_info": {
   "codemirror_mode": {
    "name": "ipython",
    "version": 3
   },
   "file_extension": ".py",
   "mimetype": "text/x-python",
   "name": "python",
   "nbconvert_exporter": "python",
   "pygments_lexer": "ipython3",
   "version": "3.12.7"
  }
 },
 "nbformat": 4,
 "nbformat_minor": 0
}
