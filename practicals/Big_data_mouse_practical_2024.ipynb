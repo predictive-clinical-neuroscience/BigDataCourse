{
 "cells": [
  {
   "cell_type": "markdown",
   "metadata": {
    "id": "aXvrQraBOZpl"
   },
   "source": [
    "## Open this document in colab (if it is not already done so)\n",
    "\n",
    "[![Open In Colab](https://colab.research.google.com/assets/colab-badge.svg)](https://colab.research.google.com/github/predictive-clinical-neuroscience/BigDataCourse/blob/main/practicals/Big_data_mouse_practical_2024.ipynb)"
   ]
  },
  {
   "cell_type": "markdown",
   "metadata": {},
   "source": [
    "## Answers\n",
    "The answers to this practical are here. We encourage you to try to come to the answers by yourself. \n",
    "[![Open In Colab](https://colab.research.google.com/assets/colab-badge.svg)](https://colab.research.google.com/github/predictive-clinical-neuroscience/BigDataCourse/blob/main/practicals/Big_data_mouse_practical_2024_answer.ipynb)\n",
    "\n",
    "https://github.com/predictive-clinical-neuroscience/BigDataCourse/blob/main/practicals/Big_data_mouse_practical_2024_answer.ipynb"
   ]
  },
  {
   "cell_type": "markdown",
   "metadata": {
    "id": "E82tdUEX7lU8"
   },
   "source": [
    "# Big data : Mouse\n",
    "\n",
    "The objectives of this exercise are to familiarize the students with python, especially the processing of large mouse database. Here, we will use a recently published dataset containing mouse brain volume data from ~ 2000 mice.\n",
    "<br>\n",
    "Learning goals: \n",
    "- The student learns to use python through google collab / jupyter notebook\n",
    "- The student learns to use pandas to process large datasets\n",
    "- The student learns to use matplotlib to visualize data\n",
    "- The student is familar with large mouse datasets\n",
    "<br>\n",
    "**References:** \n",
    "1. Ellegood, J., Anagnostou, E., Babineau, B. et al. Clustering autism: using neuroanatomical differences in 26 mouse models to gain insight into the heterogeneity. Mol Psychiatry 20, 118–125 (2015). https://doi.org/10.1038/mp.2014.98\n",
    "2. Rivera-Olvera, A., Houwing, D.J., Ellegood, J. et al. The universe is asymmetric, the mouse brain too. Mol Psychiatry (2024). https://doi.org/10.1038/s41380-024-02687-2\n",
    "3. Original dataset available at: https://portal.conp.ca/dataset?id=projects/braincode_Mouse_Image\n"
   ]
  },
  {
   "cell_type": "markdown",
   "metadata": {
    "id": "pkUlCjXcM-tS"
   },
   "source": [
    "## Foreword and environment\n",
    "This is a Jupyter notebook. This document combines both text (e.g. *this*), and executable code. These are organized into cells. This is a **text** cell. "
   ]
  },
  {
   "cell_type": "code",
   "execution_count": 1,
   "metadata": {
    "id": "alNQlF0qNis1"
   },
   "outputs": [
    {
     "name": "stdout",
     "output_type": "stream",
     "text": [
      "This is a code cell\n"
     ]
    }
   ],
   "source": [
    "print('This is a code cell')\n",
    "# This is a comment. The line above will be executed when you click on the 'play' icon on the left. The comment will not be executed. "
   ]
  },
  {
   "cell_type": "markdown",
   "metadata": {
    "id": "lKkEa-yuOABV"
   },
   "source": [
    "## Environment basics\n",
    "The default environment is Python3. You can check the version by running the \n",
    "code in the following cell. "
   ]
  },
  {
   "cell_type": "code",
   "execution_count": 2,
   "metadata": {
    "id": "YLJUiPefOHss"
   },
   "outputs": [
    {
     "name": "stdout",
     "output_type": "stream",
     "text": [
      "3.12.7\n"
     ]
    }
   ],
   "source": [
    "import platform  #the import function loads packages (a collection of functions) that isn't available within the default python environment. \n",
    "\n",
    "print(platform.python_version()) #the print function *prints* on screen the content therein. In this particular instance, it *prints* the content from the function `platform.python_version()`"
   ]
  },
  {
   "cell_type": "markdown",
   "metadata": {
    "id": "dwr-VUN_Pzz2"
   },
   "source": [
    "## Editing cells. \n",
    "You can *Double-click* to edit the content of a cell. \n",
    "<br>\n",
    "## Adding new cells.\n",
    "By hovering your mouse above or below a cell, you can add either a *code* cell or a *text* cell\n",
    "<br>\n",
    "## Formating text.\n",
    "You can add emphasis to your text using either the icons on top of the cell while editing, or using [Markdown](https://www.markdownguide.org/cheat-sheet/), a simple text-formating language. \n",
    "<br><br>\n",
    "##### 100% optional (but so good!!)\n",
    "While in Google Colab: Tools -> Settings -> Miscellaneous -> Corgi mode [x]\n"
   ]
  },
  {
   "cell_type": "markdown",
   "metadata": {
    "id": "NHK8v4nuY8vy"
   },
   "source": [
    "### Question 1\n",
    "**Create a code cell, and have it print your name**"
   ]
  },
  {
   "cell_type": "markdown",
   "metadata": {},
   "source": [
    "## Environment: packages \n",
    "By default, Python comes only with minimal functions.  \n",
    "Google colab comes with pip pre-installed as well as most packages that you would need for most data analysis tasks. These are:\n",
    "- pandas for data manipulation\n",
    "- numpy for numerical operations\n",
    "- matplotlib for plotting\n",
    "- seaborn for (better) plotting\n",
    "- scipy for statistics\n",
    "\n",
    "each needs to be loaded using the `import` command in python.\n",
    "each package has a manual online with a description of the functions. You can use this as the reference for the functions you will use. \n",
    "\n",
    "in case you need to install a package, you can use the `!pip install THENAMEOFYOURPACKAGE` command. "
   ]
  },
  {
   "cell_type": "markdown",
   "metadata": {},
   "source": [
    "## Note on AI use for coding\n",
    "Google colab comes with AI assited code completion. This can be very useful to find the right function. You can also use chatGPT to help you with the code. **Mind you**, these are not always correct. Using 'old fashioned' methods to find the right function (e.g. google,  stackoverflow, reading the package manual) is often more reliable.\n",
    "\n",
    "We cannot stop you from using AI (nor should we). However, we do encourage you to try to solve the problems yourself, especially as a beginner, so as to learn the basics."
   ]
  },
  {
   "cell_type": "markdown",
   "metadata": {},
   "source": [
    "# Part 1: Data loading and exploration\n",
    "The first step in any data analysis is to load the data and explore it. As mentioned earlier, this dataset consists of brain volume data from ~2000 mice. The data is stored in a csv file which we import using the read_csv function from the pandas package."
   ]
  },
  {
   "cell_type": "code",
   "execution_count": null,
   "metadata": {},
   "outputs": [],
   "source": [
    "import pandas as pd #importing the pandas package and renaming it as pd. This is a common practice in python programming.\n",
    "df = pd.read_csv('https://raw.githubusercontent.com/predictive-clinical-neuroscience/BigDataCourse/main/data/mouse_autism.csv') #from pandas (pd), we use the read_csv function to read the csv file. We store the data in a variable called df, short for data frame. \n",
    "df.head() #the head function displays the first 5 rows of"
   ]
  },
  {
   "cell_type": "markdown",
   "metadata": {},
   "source": [
    "We find that the data consists of many columns, the first 7 are detailing the sample, the remaining columns are the brain volumes for different regions of the brain (e.g. dentate_nucleus_right), expressed in mm^3.\n",
    "Mouse_ID is the unique identifier for each mouse.\n",
    "Study_Name is the name of the study the mouse was part of. Usually, this refers to a gene or genetic manipulation to reproduce one aspect of autism spectrum disorder in transgenic mice.\n",
    "Is_Wildtype indicates if the mouse is a wildtype (WT) mouse or a transgenic (MUT)\n",
    "Mouse_Sex is the mouse sex\n",
    "Mouse_Age is the mouse age in days or day range\n",
    "Mouse_Weight is the mouse weight in grams\n",
    "Genotype_Code is the genotype code for the mouse (e.g. WT, KO, HET, ...). "
   ]
  },
  {
   "cell_type": "markdown",
   "metadata": {},
   "source": [
    "## Question 1: data exploration\n",
    "We want to get some basic information about the dataset. Want to get the following information:\n",
    "- The total number of rows and colums (hint: use the shape attribute of your dataframe)\n",
    "- The Mouse_ID at the 15th row of the dataset (hint: use the iloc function, remember that python starts counting at 0)\n",
    "- The total number of unique studies (hint: use the nunique function, and select the Study_Name column)\n",
    "- Count how many male and female mice are in the dataset (hint: use the value_counts function and the [] operator to select the colmun you want to count)\n",
    "\n",
    "Links to hints:\n",
    "- [shape](https://pandas.pydata.org/pandas-docs/stable/reference/api/pandas.DataFrame.shape.html)\n",
    "- [iloc](https://pandas.pydata.org/pandas-docs/stable/reference/api/pandas.DataFrame.iloc.html)\n",
    "- [nunique](https://pandas.pydata.org/pandas-docs/stable/reference/api/pandas.Series.nunique.html)\n",
    "- [value_counts](https://pandas.pydata.org/pandas-docs/stable/reference/api/pandas.Series.value_counts.html)"
   ]
  },
  {
   "cell_type": "markdown",
   "metadata": {},
   "source": [
    "## Question 2: data manipulation\n",
    "Here we want to learn to manipulate the data for our purposes.\n",
    "- Create a subset of df that only contains the columns from the 8th to the last column (hint: use the iloc function with the : operator)\n",
    "- Create a new column in df that contains the total brain volume for each mouse. This is the sum of all the columns from your previously subsetted dataframe (hint: use the sum function with the axis=1 argument, the total brain volume should be in the 500 mm^3 range)\n",
    "- Create a subset of df that only contains the data for the 'Chd8_Basson' study. Chd8 is a gene that is associated with an enlarged brain in autism. **You should have 24 rows left!** (hint: use the [] operator with a condition inside to select only the rows that match, e.g. df[df['YOURCOLUMN']=='YOURVALUE'])\n",
    "\n",
    "Links to hints:\n",
    "- [using operators in pandas](https://pandas.pydata.org/pandas-docs/stable/user_guide/indexing.html)\n",
    "- [iloc](https://pandas.pydata.org/pandas-docs/stable/reference/api/pandas.DataFrame.iloc.html)\n",
    "- [sum](https://pandas.pydata.org/pandas-docs/stable/reference/api/pandas.DataFrame.sum.html)"
   ]
  },
  {
   "cell_type": "markdown",
   "metadata": {},
   "source": [
    "## Question 3: data visualization and statistics\n",
    "Here we want to visualize the data and perform some basic statistics.\n",
    "- Make a boxplot of the total brain volume on the y-axis and Genotype_Code on the x-axis. (hint: you can use the the boxplot function from pandas (easy), matplotlib (nice) or seaborn (nicer), don't forget to import matplotlib or seaborn, dont forget to add axis labes!)\n",
    "- Make a t-test to compare the total brain volume between WT and KO mice in the Chd8_Basson study. (hint: use the ttest_ind function from the scipy package, don't forget to import scipy !)\n",
    "\n",
    "Links to hints:\n",
    "- [boxplot using matplotlib](https://matplotlib.org/stable/gallery/statistics/boxplot_color.html)\n",
    "- [boxplot using seaborn](https://seaborn.pydata.org/generated/seaborn.boxplot.html)\n",
    "- [ttest_ind](https://docs.scipy.org/doc/scipy/reference/generated/scipy.stats.ttest_ind.html)"
   ]
  }
 ],
 "metadata": {
  "colab": {
   "collapsed_sections": [],
   "name": "Big_data_mouse_practical_2020.ipynb",
   "provenance": [
    {
     "file_id": "1aomciLThQotSzWfMjLBS5PyGwAoRZVwM",
     "timestamp": 1606770180804
    }
   ],
   "toc_visible": true
  },
  "kernelspec": {
   "display_name": "Python 3",
   "language": "python",
   "name": "python3"
  },
  "language_info": {
   "codemirror_mode": {
    "name": "ipython",
    "version": 3
   },
   "file_extension": ".py",
   "mimetype": "text/x-python",
   "name": "python",
   "nbconvert_exporter": "python",
   "pygments_lexer": "ipython3",
   "version": "3.12.7"
  }
 },
 "nbformat": 4,
 "nbformat_minor": 0
}
